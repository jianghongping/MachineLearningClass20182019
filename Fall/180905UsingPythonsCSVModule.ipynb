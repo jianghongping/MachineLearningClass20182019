{
 "cells": [
  {
   "cell_type": "markdown",
   "metadata": {},
   "source": [
    "# Using Python's `csv` Module\n",
    "\n",
    "This Jupyter Notebook introduces basic data handling using only built-in Python tools.\n",
    "\n",
    "Specifically, we'll be using the `csv` module that's built into Python for our data analysis."
   ]
  },
  {
   "cell_type": "markdown",
   "metadata": {},
   "source": [
    "# Resources\n",
    "\n",
    "If you have not used the `csv` module before, I suggest opening up one of the following links as a reference as you go through this assignment:\n",
    "\n",
    "0. [The basics: a short and sweet tutorial on the `csv` module](https://pythonprogramming.net/reading-csv-files-python-3/)\n",
    "1. [More in-depth: How to read and write csv files with Python](https://code.tutsplus.com/tutorials/how-to-read-and-write-csv-files-in-python--cms-29907)\n",
    "3. [Thorough tutorial: Reading and writing csv files with Python](https://realpython.com/python-csv/#reading-csv-files-into-a-dictionary-with-csv)"
   ]
  },
  {
   "cell_type": "markdown",
   "metadata": {},
   "source": [
    "# Your Assignment\n",
    "\n",
    "Using only the built-in `csv` module and what you know about the Python programming language (including other built-in standard libraries), complete the following tasks:\n",
    "\n",
    "1. Load the Titanic dataset\n",
    "2. Pick one set of exercises below (Introductory, Intermediate or Advanced) and analyze the dataset to answer all of the questions:\n",
    "\n",
    "\n",
    "### Introductory\n",
    "\n",
    "* What is the sum total of all fares paid by passengers on the Titanic?\n",
    "* What % of the total fare was paid by each of the passenger classes?\n",
    "* What was the average age of passengers on the Titanic? Who was the oldest passenger? Who was the youngest?\n",
    "* What % of female passengers under the age of 25 survived?\n",
    "    \n",
    "### Intermediate\n",
    "* What % of female passengers in Class 2 survived? \n",
    "* Which Cabin letter (A, B, C, D, E or F) had the highest survival rate?\n",
    "* What % of the Titanic passengers were Class 1? Class 2? Class 3?\n",
    "* Which Boat # had the highest survival rate?\n",
    "    \n",
    "### Advanced\n",
    "* What were the top 3 most common destinations on the Titanic?\n",
    "* What % of rows in this dataset has at least one null or unknown quantity (e.g., it's blank in some column)?\n",
    "* On average, which combination of embarking / destination tended to require the highest fare? (E.g., what was highest average price for each of the possible combinations for where a passenger could embark and their destination?)"
   ]
  },
  {
   "cell_type": "markdown",
   "metadata": {},
   "source": [
    "# Your Code Below"
   ]
  },
  {
   "cell_type": "code",
   "execution_count": 40,
   "metadata": {
    "scrolled": true
   },
   "outputs": [
    {
     "name": "stdout",
     "output_type": "stream",
     "text": [
      "88.67924528301887% of females from Class 2 survived\n",
      "Cabin E had the highest survival rate of 73.17073170731707%\n",
      "Class 3, the largest class, accounts for 54.163483575248286% of the titanic's population\n"
     ]
    }
   ],
   "source": [
    "### Write your code here that answers each of the exercises above\n",
    "#Intermediate 1, 2, 3\n",
    "\n",
    "import csv\n",
    "\n",
    "total_females = 0\n",
    "survived_females = 0\n",
    "cabin_data = {\n",
    "    \n",
    "    'A':[0,0,0],\n",
    "    'B':[0,0,0],\n",
    "    'C':[0,0,0],\n",
    "    'D':[0,0,0],\n",
    "    'E':[0,0,0],\n",
    "    'F':[0,0,0],\n",
    "    'G':[0,0,0]\n",
    "\n",
    "}\n",
    "class_data = {\n",
    "    '1':0,\n",
    "    '2':0,\n",
    "    '3':0\n",
    "}\n",
    "\n",
    "\n",
    "with open('titanic_dataset.csv') as csvfile:\n",
    "    \n",
    "    readCSV = list(csv.reader(csvfile, delimiter=','))\n",
    "    sex_index = readCSV[0].index('sex')\n",
    "    survived_index = readCSV[0].index('survived')\n",
    "    cabin_index = readCSV[0].index('cabin')\n",
    "    class_index = readCSV[0].index('pclass')\n",
    "    \n",
    "    for row in readCSV[1:]:\n",
    "        \n",
    "        passenger_class = row[class_index]\n",
    "        \n",
    "        if row[sex_index] == 'female' and passenger_class == '2':\n",
    "            \n",
    "            total_females += 1\n",
    "            \n",
    "            if row[survived_index] == '1':\n",
    "                \n",
    "                survived_females += 1\n",
    "        if len(row[cabin_index]) >= 1 and row[cabin_index][0] in \"ABCDEFG\":\n",
    "            \n",
    "            cabin_letter = row[cabin_index][0]\n",
    "            cabin_data[cabin_letter][1] += 1\n",
    "            \n",
    "            if row[survived_index] == '1':\n",
    "                \n",
    "                cabin_data[cabin_letter][0] += 1\n",
    "                \n",
    "        if passenger_class in \"123\":\n",
    "            \n",
    "            class_data[passenger_class] += 1\n",
    "        \n",
    "\n",
    "best_cabin_survival = 0\n",
    "best_cabin = ''\n",
    "for cabin in cabin_data:\n",
    "    \n",
    "    cabin_survival = cabin_data[cabin][0] / cabin_data[cabin][1]\n",
    "    \n",
    "    if cabin_survival > best_cabin_survival:\n",
    "        \n",
    "        best_cabin = cabin\n",
    "        best_cabin_survival = cabin_survival\n",
    "        \n",
    "largest_class = ''\n",
    "largest_class_portion = 0\n",
    "titanic_population = len(readCSV[1:])\n",
    "\n",
    "for pclass in class_data:\n",
    "    \n",
    "    class_portion = class_data[pclass]/titanic_population\n",
    "    \n",
    "    if class_portion > largest_class_portion:\n",
    "        \n",
    "        largest_class_portion = class_portion\n",
    "        largest_class = pclass\n",
    "\n",
    "print(str(survived_females*100/total_females)+'% of females from Class 2 survived')\n",
    "print('Cabin ' + best_cabin + \" had the highest survival rate of \" + str(best_cabin_survival*100) + \"%\")\n",
    "print(\"Class \" + largest_class + \", the largest class, accounts for \" + str(largest_class_portion*100) + \"% of the titanic's population\")"
   ]
  },
  {
   "cell_type": "code",
   "execution_count": 11,
   "metadata": {},
   "outputs": [
    {
     "name": "stdout",
     "output_type": "stream",
     "text": [
      "{'New York, NY': 64, 'London': 14, 'Montreal, PQ': 10}\n"
     ]
    }
   ],
   "source": [
    "import csv\n",
    "\n",
    "#Advanced 1\n",
    "\n",
    "destinations_dict = {}\n",
    "\n",
    "with open('titanic_dataset.csv') as csvfile:\n",
    "    \n",
    "    readCSV = list(csv.reader(csvfile, delimiter=','))\n",
    "    destination_index = readCSV[0].index('home.dest')\n",
    "    \n",
    "    for row in readCSV[1:]:\n",
    "        \n",
    "        destination = row[destination_index]\n",
    "        if destination in destinations_dict:\n",
    "            #add one to the value of that dict\n",
    "            destinations_dict[destination] += 1\n",
    "        elif destination != '':\n",
    "            #create new dictionary element destination,1\n",
    "            destinations_dict[destination] = 1\n",
    "        \n",
    "\n",
    "top_three_destinations = dict(zip(list(sorted(destinations_dict, key=destinations_dict.get, reverse=True))[:3],\n",
    "list(sorted(destinations_dict.values(), reverse=True))[:3]))\n",
    "\n",
    "print(top_three_destinations)"
   ]
  },
  {
   "cell_type": "code",
   "execution_count": 12,
   "metadata": {},
   "outputs": [
    {
     "name": "stdout",
     "output_type": "stream",
     "text": [
      "['pclass', 'survived', 'name', 'sex', 'age', 'sibsp', 'parch', 'ticket', 'fare', 'cabin', 'embarked', 'boat', 'body', 'home.dest']\n",
      "100.0% of all rows contain a null value.\n"
     ]
    }
   ],
   "source": [
    "#Advanced 2\n",
    "\n",
    "import csv\n",
    "\n",
    "with open('titanic_dataset.csv') as csvfile:\n",
    "    \n",
    "    readCSV = list(csv.reader(csvfile, delimiter=','))\n",
    "    rows_with_null = 0\n",
    "    \n",
    "    for row in readCSV[1:]:\n",
    "        \n",
    "        if '' in row:\n",
    "            \n",
    "            rows_with_null += 1\n",
    "        else:\n",
    "            \n",
    "            print(row)\n",
    "print(readCSV[0])\n",
    "print(str(rows_with_null/(len(readCSV)-1)*100) + \"% of all rows contain a null value.\")"
   ]
  },
  {
   "cell_type": "code",
   "execution_count": 22,
   "metadata": {},
   "outputs": [
    {
     "name": "stdout",
     "output_type": "stream",
     "text": [
      "The highest average fare on the titanic is for the trip: C->Austria-Hungary / Germantown, Philadelphia, PA at a price of $512.3292\n"
     ]
    }
   ],
   "source": [
    "#Advanced 3\n",
    "\n",
    "import csv\n",
    "\n",
    "fare_dict = {\n",
    "    \n",
    "    #items should be structured like this 'embark->destination':[fare,fare,fare]\n",
    "}\n",
    "\n",
    "with open('titanic_dataset.csv') as csvfile:\n",
    "    \n",
    "    readCSV = list(csv.reader(csvfile, delimiter=','))\n",
    "    destination_index = readCSV[0].index('home.dest')\n",
    "    embarc_index = readCSV[0].index('embarked')\n",
    "    fare_index = readCSV[0].index('fare')\n",
    "    \n",
    "    for row in readCSV[1:]:\n",
    "        \n",
    "        key_string = row[embarc_index] + '->' + row[destination_index]\n",
    "\n",
    "        if key_string in fare_dict and row[fare_index] != '':\n",
    "            \n",
    "            fare_dict[key_string].append(float(row[fare_index]))\n",
    "        \n",
    "        elif row[fare_index] != '' and row[embarc_index] != '' and row[destination_index] != '':\n",
    "            \n",
    "            fare_dict[key_string] = [float(row[fare_index])]\n",
    "            \n",
    "highest_avr_trip = 0\n",
    "highest_trip_name = ''\n",
    "for fare_name in fare_dict:\n",
    "    \n",
    "    fare_avr = sum(fare_dict[fare_name]) / len(fare_dict[fare_name])\n",
    "\n",
    "    if fare_avr > highest_avr_trip:\n",
    "        \n",
    "        highest_avr_trip = fare_avr\n",
    "        highest_trip_name = fare_name\n",
    "        \n",
    "print('The highest average fare on the titanic is for the trip: ' + highest_trip_name + ' at a price of $' + str(highest_avr_trip))"
   ]
  },
  {
   "cell_type": "code",
   "execution_count": null,
   "metadata": {},
   "outputs": [],
   "source": []
  }
 ],
 "metadata": {
  "kernelspec": {
   "display_name": "Python 3",
   "language": "python",
   "name": "python3"
  },
  "language_info": {
   "codemirror_mode": {
    "name": "ipython",
    "version": 3
   },
   "file_extension": ".py",
   "mimetype": "text/x-python",
   "name": "python",
   "nbconvert_exporter": "python",
   "pygments_lexer": "ipython3",
   "version": "3.7.0"
  }
 },
 "nbformat": 4,
 "nbformat_minor": 2
}
