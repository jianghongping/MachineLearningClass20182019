{
 "cells": [
  {
   "cell_type": "code",
   "execution_count": 16,
   "metadata": {
    "scrolled": true
   },
   "outputs": [],
   "source": [
    "from __future__ import print_function\n",
    "import tensorflow as tf\n",
    "import keras\n",
    "from keras.models import Sequential\n",
    "from keras.layers import Dense, Dropout, Activation\n",
    "from keras.preprocessing.text import Tokenizer\n",
    "from sklearn import linear_model\n",
    "import numpy as np\n",
    "from keras.constraints import nonneg\n",
    "import keras\n",
    "from sklearn.model_selection import train_test_split\n",
    "from sklearn import preprocessing\n",
    "import pandas as pd\n",
    "\n",
    "# pd.set_option('display.max_columns', 500)"
   ]
  },
  {
   "cell_type": "code",
   "execution_count": 2,
   "metadata": {},
   "outputs": [],
   "source": [
    "def fillWithMean(df):\n",
    "    \n",
    "    return df.fillna(df.mean()).dropna(axis=1, how='all')"
   ]
  },
  {
   "cell_type": "code",
   "execution_count": 3,
   "metadata": {},
   "outputs": [],
   "source": [
    "### Function to binarize data\n",
    "def binarize_strings(data_series):\n",
    "    encoder = preprocessing.LabelBinarizer(sparse_output=False)\n",
    "    status_array = encoder.fit_transform(data_series.values)\n",
    "    \n",
    "    return status_array"
   ]
  },
  {
   "cell_type": "code",
   "execution_count": 4,
   "metadata": {},
   "outputs": [],
   "source": [
    "data_values = fillWithMean(pd.read_csv('dengue_features_train.csv'))"
   ]
  },
  {
   "cell_type": "code",
   "execution_count": 11,
   "metadata": {
    "scrolled": true
   },
   "outputs": [],
   "source": [
    "### import the csvs\n",
    "data_values = pd.read_csv('dengue_features_train.csv')\n",
    "data_labels = pd.read_csv('dengue_labels_train.csv')\n",
    "data_values['week_start_date'] = pd.to_datetime(data_values['week_start_date'])\n",
    "\n",
    "scaler = preprocessing.StandardScaler()\n",
    "data_values['week_start_date'] = scaler.fit_transform(data_values['week_start_date'].values.astype(float).reshape(-1,1))\n",
    "data_values['city'] = binarize_strings(data_values['city'])"
   ]
  },
  {
   "cell_type": "code",
   "execution_count": 12,
   "metadata": {},
   "outputs": [],
   "source": [
    "### extract X and y\n",
    "X = data_values[data_values.columns.difference(['year','weekofyear'])].values\n",
    "y = data_labels[data_labels.columns.difference(['city','year','weekofyear'])].values\n"
   ]
  },
  {
   "cell_type": "code",
   "execution_count": 15,
   "metadata": {},
   "outputs": [
    {
     "name": "stdout",
     "output_type": "stream",
     "text": [
      "(1310, 22)\n",
      "(1310, 1)\n"
     ]
    }
   ],
   "source": [
    "#sample and assign data\n",
    "\n",
    "X_train, X_test, y_train, y_test = train_test_split(X, y, test_size=.1, shuffle=True)\n",
    "print(X_train.shape)\n",
    "print(y_train.shape)\n",
    "\n"
   ]
  },
  {
   "cell_type": "code",
   "execution_count": 110,
   "metadata": {},
   "outputs": [],
   "source": [
    "\n",
    "model = Sequential()\n",
    "\n",
    "# The first layer of your network needs to know the input shape\n",
    "input_shape = (22, )\n"
   ]
  },
  {
   "cell_type": "code",
   "execution_count": 142,
   "metadata": {},
   "outputs": [
    {
     "name": "stdout",
     "output_type": "stream",
     "text": [
      "Compiling model...\n",
      "Fitting model...\n",
      "Train on 1179 samples, validate on 131 samples\n",
      "Epoch 1/10\n",
      "1179/1179 [==============================] - 4s 4ms/step - loss: 2152.3070 - mean_absolute_error: 22.9356 - acc: 0.0144 - val_loss: 1760.5510 - val_mean_absolute_error: 22.2397 - val_acc: 0.0153\n",
      "Epoch 2/10\n",
      "1179/1179 [==============================] - 0s 230us/step - loss: 2089.5797 - mean_absolute_error: 23.9461 - acc: 0.0144 - val_loss: 1761.6921 - val_mean_absolute_error: 21.7280 - val_acc: 0.0076\n",
      "Epoch 3/10\n",
      "1179/1179 [==============================] - 0s 240us/step - loss: 2088.4392 - mean_absolute_error: 23.5527 - acc: 0.0068 - val_loss: 1771.4276 - val_mean_absolute_error: 23.6152 - val_acc: 0.0305\n",
      "Epoch 4/10\n",
      "1179/1179 [==============================] - 0s 234us/step - loss: 2090.2684 - mean_absolute_error: 23.8633 - acc: 0.0102 - val_loss: 1767.6026 - val_mean_absolute_error: 23.2987 - val_acc: 0.0305\n",
      "Epoch 5/10\n",
      "1179/1179 [==============================] - 0s 237us/step - loss: 2091.6937 - mean_absolute_error: 24.0103 - acc: 0.0127 - val_loss: 1760.5296 - val_mean_absolute_error: 22.2126 - val_acc: 0.0153\n",
      "Epoch 6/10\n",
      "1179/1179 [==============================] - 0s 235us/step - loss: 2087.1988 - mean_absolute_error: 23.6160 - acc: 0.0093 - val_loss: 1791.2081 - val_mean_absolute_error: 24.7591 - val_acc: 0.0229\n",
      "Epoch 7/10\n",
      "1179/1179 [==============================] - 0s 232us/step - loss: 2087.5990 - mean_absolute_error: 23.9428 - acc: 0.0187 - val_loss: 1786.0730 - val_mean_absolute_error: 24.5112 - val_acc: 0.0000e+00\n",
      "Epoch 8/10\n",
      "1179/1179 [==============================] - 0s 235us/step - loss: 2091.5107 - mean_absolute_error: 23.9872 - acc: 0.0102 - val_loss: 1763.8993 - val_mean_absolute_error: 22.9285 - val_acc: 0.0153\n",
      "Epoch 9/10\n",
      "1179/1179 [==============================] - 0s 232us/step - loss: 2086.6979 - mean_absolute_error: 24.0090 - acc: 0.0102 - val_loss: 1760.7396 - val_mean_absolute_error: 21.9649 - val_acc: 0.0153\n",
      "Epoch 10/10\n",
      "1179/1179 [==============================] - 0s 215us/step - loss: 2091.3113 - mean_absolute_error: 23.7142 - acc: 0.0119 - val_loss: 1765.7035 - val_mean_absolute_error: 23.1256 - val_acc: 0.0153\n"
     ]
    }
   ],
   "source": [
    "# Adding additional layers\n",
    "model.add(Dense(units=22))\n",
    "model.add(Activation('relu'))\n",
    "# model.add(Dropout(0.5)) # drops connections, to save processing power and prevents overfitting\n",
    "model.add(Dense(units=11))\n",
    "# model.add(Activation('relu'))\n",
    "model.add(Dense(1, activation='linear', kernel_constraint=nonneg()))\n",
    "\n",
    "print('Compiling model...')\n",
    "#lms model, compiling the model\n",
    "model.compile(optimizer='rmsprop',\n",
    "              loss='mse',metrics=['mae', 'acc'])\n",
    "\n",
    "# Setting the hyperparameters\n",
    "batch_size = 32\n",
    "epochs = 10\n",
    "\n",
    "\n",
    "\n",
    "print('Fitting model...')\n",
    "history = model.fit(X_train, y_train,\n",
    "                    batch_size=batch_size,\n",
    "                    epochs=epochs,\n",
    "                    verbose=1,\n",
    "                    validation_split=0.1)"
   ]
  },
  {
   "cell_type": "code",
   "execution_count": 17,
   "metadata": {},
   "outputs": [
    {
     "ename": "NameError",
     "evalue": "name 'model' is not defined",
     "output_type": "error",
     "traceback": [
      "\u001b[0;31m---------------------------------------------------------------------------\u001b[0m",
      "\u001b[0;31mNameError\u001b[0m                                 Traceback (most recent call last)",
      "\u001b[0;32m<ipython-input-17-a1f84fa4d5b9>\u001b[0m in \u001b[0;36m<module>\u001b[0;34m\u001b[0m\n\u001b[0;32m----> 1\u001b[0;31m score = model.evaluate(X_test, y_test,\n\u001b[0m\u001b[1;32m      2\u001b[0m                        batch_size=batch_size, verbose=1)\n\u001b[1;32m      3\u001b[0m \u001b[0mprint\u001b[0m\u001b[0;34m(\u001b[0m\u001b[0;34m'Test score:'\u001b[0m\u001b[0;34m,\u001b[0m \u001b[0mscore\u001b[0m\u001b[0;34m[\u001b[0m\u001b[0;36m0\u001b[0m\u001b[0;34m]\u001b[0m\u001b[0;34m)\u001b[0m\u001b[0;34m\u001b[0m\u001b[0;34m\u001b[0m\u001b[0m\n\u001b[1;32m      4\u001b[0m \u001b[0mprint\u001b[0m\u001b[0;34m(\u001b[0m\u001b[0;34m'Test accuracy:'\u001b[0m\u001b[0;34m,\u001b[0m \u001b[0mscore\u001b[0m\u001b[0;34m[\u001b[0m\u001b[0;36m1\u001b[0m\u001b[0;34m]\u001b[0m\u001b[0;34m)\u001b[0m\u001b[0;34m\u001b[0m\u001b[0;34m\u001b[0m\u001b[0m\n",
      "\u001b[0;31mNameError\u001b[0m: name 'model' is not defined"
     ]
    }
   ],
   "source": [
    "score = model.evaluate(X_test, y_test,\n",
    "                       batch_size=batch_size, verbose=1)\n",
    "print('Test score:', score[0])\n",
    "print('Test accuracy:', score[1])"
   ]
  },
  {
   "cell_type": "code",
   "execution_count": null,
   "metadata": {},
   "outputs": [],
   "source": []
  }
 ],
 "metadata": {
  "kernelspec": {
   "display_name": "Python 3",
   "language": "python",
   "name": "python3"
  },
  "language_info": {
   "codemirror_mode": {
    "name": "ipython",
    "version": 3
   },
   "file_extension": ".py",
   "mimetype": "text/x-python",
   "name": "python",
   "nbconvert_exporter": "python",
   "pygments_lexer": "ipython3",
   "version": "3.6.7"
  }
 },
 "nbformat": 4,
 "nbformat_minor": 2
}
