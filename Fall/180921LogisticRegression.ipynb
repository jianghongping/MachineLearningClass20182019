{
 "cells": [
  {
   "cell_type": "markdown",
   "metadata": {},
   "source": [
    "# Logistic Regression with Synthetic Data\n",
    "\n",
    "For more explanation of logistic regression, see\n",
    "1. [Our course notes](https://jennselby.github.io/MachineLearningCourseNotes/#binomial-logistic-regression)\n",
    "1. [This scikit-learn explanation](http://scikit-learn.org/stable/modules/linear_model.html#logistic-regression)\n",
    "1. [The full scikit-learn documentation of the LogisticRegression model class](http://scikit-learn.org/stable/modules/generated/sklearn.linear_model.LogisticRegression.html)"
   ]
  },
  {
   "cell_type": "code",
   "execution_count": 1,
   "metadata": {},
   "outputs": [],
   "source": [
    "import numpy # for generating our dataset\n",
    "from sklearn import linear_model # for fitting our model\n",
    "import math\n",
    "\n",
    "# force numpy not to use scientific notation, to make it easier to read the numbers the program prints out\n",
    "numpy.set_printoptions(suppress=True)\n",
    "\n",
    "# to display graphs in this notebook\n",
    "%matplotlib inline\n",
    "import matplotlib.pyplot\n",
    "from mpl_toolkits.mplot3d import Axes3D # for 3D plotting"
   ]
  },
  {
   "cell_type": "markdown",
   "metadata": {},
   "source": [
    "## Data Generation\n",
    "\n",
    "As we did in the [linear regression notebook](https://nbviewer.jupyter.org/github/jennselby/MachineLearningCourseNotes/blob/master/assets/ipynb/LinearRegression.ipynb), we will be generating some fake data.\n",
    "\n",
    "In this fake dataset, we have two types of plants.\n",
    "* Plant A tends to be taller (average 60cm) and thinner (average 8cm).\n",
    "* Plant B tends to be shorter (average 58cm) and wider (average 10cm).\n",
    "* The heights and diameters of both plants are normally distributed (they follow a bell curve).\n",
    "\n",
    "* Class 0 will represent Plant A and Class 1 will represent Plant B"
   ]
  },
  {
   "cell_type": "code",
   "execution_count": 14,
   "metadata": {},
   "outputs": [
    {
     "name": "stdout",
     "output_type": "stream",
     "text": [
      "[(59.77062481593998, 7.033562717412299), (58.78157409107134, 9.129786612278615), (58.63390571721402, 7.105495111252244), (59.65888266050959, 9.019071788235172), (58.1723446870069, 7.066719706018885), (59.40134814493667, 8.94321672611619), (63.52484195577069, 7.221509527268959), (61.28306957256134, 8.567561084260394), (60.04469810108563, 8.58465822199606), (60.29281240713696, 7.583745197431798), (59.79686804884978, 7.862833694024391), (60.54489899423984, 8.722372009775956), (59.34302586403678, 7.967873980076524), (60.191790058746534, 9.225360214836869), (57.82720659508936, 6.329281143118919), (59.40311992214395, 8.986213551707722), (60.393242831193184, 5.0557001883872275), (61.284849956106825, 7.517201424949995), (59.36006892231468, 8.026175538335123), (61.56066140070469, 10.36531437336365), (60.03644031723553, 7.730238083227534), (59.12708873537956, 7.518437320448554), (59.53052596630552, 8.932026259045086), (59.098518333884606, 9.032256186417788), (59.526302656593295, 7.555665882105149), (60.00662862990613, 8.584896338098003), (60.14606287487914, 9.161657959417473), (61.483535642824236, 7.2979236076001675), (59.242173359399565, 6.5278318077027), (59.829426268472496, 9.398511609952829), (58.59997260331006, 8.273687198211933), (58.2978411069977, 7.842858682776832), (61.24842642676746, 8.983752468480183), (58.91441174526505, 8.518618901260481), (60.010972992968235, 7.680508464390322), (61.572918249299185, 7.120329562330577), (60.88425300248544, 7.533351445489942), (60.559182144072416, 8.793242374173323), (58.1586757503594, 8.168477902068467), (57.684624636937656, 7.289943635039435), (61.686208878348964, 10.400845286621221), (59.49450493430572, 9.739934451099675), (59.194202485856444, 9.556048438883144), (58.34714988744934, 6.80708614211308), (60.17525108570834, 7.488975060414277), (59.296899090656524, 5.365088372499791), (59.44139726909924, 7.757701747595073), (60.4358706322706, 8.182122561781101), (60.587211522878775, 8.182689231132596), (59.60273807312653, 8.005656624712906), (57.685748333207094, 9.844308361353999), (61.19863270053192, 12.480316811322638), (57.84813443009665, 11.167036130070905), (56.52816663265928, 10.165581511513519), (58.37334991151211, 8.770583272010102), (56.23121995749012, 9.357251570021463), (57.24014172927105, 9.362118462877032), (57.403216265305176, 11.211863006263055), (57.370859545153785, 8.72254543866352), (59.20555785210533, 10.112787003500133), (58.110550846106605, 9.637597404945037), (58.340977248521156, 9.160112209159909), (57.24950246194776, 10.694359943741901), (58.67498439298091, 10.748756298850761), (58.13204979385619, 8.68527156956275), (58.974507875241, 9.785850848763998), (59.2707266831928, 10.912885075987417), (57.23838084959716, 10.395266516140275), (57.65315227578567, 8.462327936942298), (57.951546796507984, 8.80016197532608), (59.116723514167056, 9.330528698461151), (59.67572780010845, 9.110636062721667), (56.61628443859947, 10.38335540331175), (57.22457923079157, 9.249745292041878), (57.85629143097434, 10.195229567713229), (56.947171627232116, 9.955774983015335), (56.77673205789109, 10.441507359802934), (58.087029478455335, 9.140184849176347), (59.75218039041521, 9.39298310459206), (57.836817786655075, 9.095493478574063), (57.174169539675674, 11.443139078408175), (58.148426714033114, 8.458827031064912), (59.342574029521025, 8.53882486545625), (56.8275169618572, 10.089232706559217), (59.53858996717253, 10.354244998886102), (57.493999951230045, 8.119641490196658), (59.03394824756629, 8.614213712363732), (58.23610284203121, 9.820649871039139), (58.227705758890366, 9.305202950967896), (58.338064646392134, 8.38430743443638), (58.45137579474472, 10.972645078775166), (57.34964818399027, 10.16771220480169), (56.89779774723801, 11.902607620590205), (57.81780402071923, 8.64171224320673), (58.085745696429406, 10.73822729509111), (57.56550073432331, 11.034073457007292), (57.252801829990815, 9.355831101332926), (57.5353256565838, 9.055847499667475), (56.39217897186338, 10.05097883639702), (57.86679984799547, 10.790253974475418)]\n"
     ]
    }
   ],
   "source": [
    "NUM_INPUTS = 50 # inputs per class\n",
    "PLANT_A_AVG_HEIGHT = 60.0\n",
    "PLANT_A_AVG_WIDTH = 8.0\n",
    "PLANT_B_AVG_HEIGHT = 58.0\n",
    "PLANT_B_AVG_WIDTH = 10.0\n",
    "\n",
    "# Pick numbers randomly with a normal distribution centered around the averages\n",
    "\n",
    "plant_a_heights = numpy.random.normal(loc=PLANT_A_AVG_HEIGHT, size=NUM_INPUTS)\n",
    "plant_a_widths = numpy.random.normal(loc=PLANT_A_AVG_WIDTH, size=NUM_INPUTS)\n",
    "\n",
    "plant_b_heights = numpy.random.normal(loc=PLANT_B_AVG_HEIGHT, size=NUM_INPUTS)\n",
    "plant_b_widths = numpy.random.normal(loc=PLANT_B_AVG_WIDTH, size=NUM_INPUTS)\n",
    "\n",
    "# this creates a 2-dimensional matrix, with heights in the first column and widths in the second\n",
    "# the first half of rows are all plants of type a and the second half are type b\n",
    "plant_inputs = list(zip(numpy.append(plant_a_heights, plant_b_heights),\n",
    "                        numpy.append(plant_a_widths, plant_b_widths)))\n",
    "\n",
    "# this is a list where the first half are 0s (representing plants of type a) and the second half are 1s (type b)\n",
    "classes = [0]*NUM_INPUTS + [1]*NUM_INPUTS\n",
    "print(plant_inputs)"
   ]
  },
  {
   "cell_type": "markdown",
   "metadata": {},
   "source": [
    "## Plotting\n",
    "\n",
    "Let's visualize our dataset, so that we can better understand what it looks like."
   ]
  },
  {
   "cell_type": "code",
   "execution_count": 3,
   "metadata": {},
   "outputs": [
    {
     "data": {
      "image/png": "[encoded data removed]",
      "text/plain": [
       "<Figure size 432x288 with 1 Axes>"
      ]
     },
     "metadata": {
      "needs_background": "light"
     },
     "output_type": "display_data"
    }
   ],
   "source": [
    "# create a figure and label it\n",
    "fig = matplotlib.pyplot.figure()\n",
    "fig.suptitle('Plant Data Set')\n",
    "matplotlib.pyplot.xlabel('Height')\n",
    "matplotlib.pyplot.ylabel('Width')\n",
    "\n",
    "# put the generated points on the graph\n",
    "a_scatter = matplotlib.pyplot.scatter(plant_a_heights, plant_a_widths, c=\"red\", marker=\"o\", label='plant a')\n",
    "b_scatter = matplotlib.pyplot.scatter(plant_b_heights, plant_b_widths, c=\"blue\", marker=\"^\", label='plant b')\n",
    "\n",
    "# add a legend to explain which points are which\n",
    "matplotlib.pyplot.legend(handles=[a_scatter, b_scatter])\n",
    "matplotlib.pyplot.show()\n"
   ]
  },
  {
   "cell_type": "markdown",
   "metadata": {},
   "source": [
    "## Model Training\n",
    "\n",
    "Next, we want to fit our logistic regression model to our dataset."
   ]
  },
  {
   "cell_type": "code",
   "execution_count": 4,
   "metadata": {},
   "outputs": [
    {
     "name": "stdout",
     "output_type": "stream",
     "text": [
      "Intercept: [0.38419029]  Coefficients: [[-0.27442558  1.72844852]]\n"
     ]
    }
   ],
   "source": [
    "model = linear_model.LogisticRegression()\n",
    "model.fit(plant_inputs, classes)\n",
    "\n",
    "print('Intercept: {0}  Coefficients: {1}'.format(model.intercept_, model.coef_))"
   ]
  },
  {
   "cell_type": "markdown",
   "metadata": {},
   "source": [
    "## Prediction\n",
    "\n",
    "Now we can make some predictions using the trained model. Note that we are generating the new data exactly the same way that we generated the training data above."
   ]
  },
  {
   "cell_type": "code",
   "execution_count": 5,
   "metadata": {},
   "outputs": [
    {
     "name": "stdout",
     "output_type": "stream",
     "text": [
      "Plant A: 59.42170804948875 9.24750756351205\n",
      "Plant B: 58.71737707774732 9.58478181585798\n",
      "Class predictions: [1 1]\n",
      "Probabilities:\n",
      "[[0.48470621 0.51529379]\n",
      " [0.30207383 0.69792617]]\n"
     ]
    }
   ],
   "source": [
    "# Generate some new random values for two plants, one of each class\n",
    "new_a_height = numpy.random.normal(loc=PLANT_A_AVG_HEIGHT)\n",
    "new_a_width = numpy.random.normal(loc=PLANT_A_AVG_WIDTH)\n",
    "new_b_height = numpy.random.normal(loc=PLANT_B_AVG_HEIGHT)\n",
    "new_b_width = numpy.random.normal(loc=PLANT_B_AVG_WIDTH)\n",
    "\n",
    "# Pull the values into a matrix, because that is what the predict function wants\n",
    "inputs = [[new_a_height, new_a_width], [new_b_height, new_b_width]]\n",
    "\n",
    "# Print out the outputs for these new inputs\n",
    "print('Plant A: {0} {1}'.format(new_a_height, new_a_width))\n",
    "print('Plant B: {0} {1}'.format(new_b_height, new_b_width))\n",
    "print('Class predictions: {0}'.format(model.predict(inputs))) # guess which class\n",
    "print('Probabilities:\\n{0}'.format(model.predict_proba(inputs))) # give probability of each class"
   ]
  },
  {
   "cell_type": "markdown",
   "metadata": {},
   "source": [
    "# Exercise Option (Standard Difficulty)\n",
    "\n",
    "Answer the following questions. You can also use the graph below, if seeing the data visually helps you understand the data.\n",
    "1. What should we be expecting as the output for class predictions in the above cell? If the model is not giving the expected output, what are some of the reasons it might not be?\n",
    "1. How do the probabilities output by the above cell relate to the class predictions? Why do you think the model might be more or less confident in its predictions?\n",
    "1. If you change the averages in the data generation code (like PLANT_A_AVG_HEIGHT) and re-run the code, how do the predictions change, and why?\n",
    "1. Looking at the intercept and coefficient output further above, if a coefficient is negative, what has the model learned about this feature? In other words, if you took a datapoint and you increased the value of a feature that has a negative coefficient, what would you expect to happen to the probabilities the model gives this datapoint?"
   ]
  },
  {
   "cell_type": "markdown",
   "metadata": {},
   "source": [
    "# Exercise Option (Advanced)\n",
    "\n",
    "The plot above is only showing the data, and not anything about what the model learned. Come up with some ideas for how to show the model fit and implement one of them in code. Remember, we are here to help if you are not sure how to write the code for your ideas!"
   ]
  },
  {
   "cell_type": "code",
   "execution_count": 6,
   "metadata": {},
   "outputs": [],
   "source": [
    "def plot_points(model,a_x,a_y,b_x,b_y):\n",
    "    # create the figure\n",
    "    fig = matplotlib.pyplot.figure(1)\n",
    "    fig.suptitle('Plant Data Set')\n",
    "    \n",
    "    # get the current axes, and tell them to do a 3D projection\n",
    "    axes = fig.gca(projection='3d')\n",
    "    axes.set_xlabel('Height')\n",
    "    axes.set_ylabel('Width')\n",
    "    axes.set_zlabel('Probabilty')\n",
    "#width = y\n",
    "    # put the generated points on the graph\n",
    "    matplotlib.pyplot.scatter(a_x, a_y, 1/(1+numpy.exp(-(a_x*model.coef_[0][0]+ a_y*model.coef_[0][1]+model.intercept_))), c=\"red\", marker=\"o\", label='plant a')\n",
    "    matplotlib.pyplot.scatter(b_x, b_y, 1/(1+numpy.exp(-(b_x*model.coef_[0][0]+ b_y*model.coef_[0][1]+model.intercept_))), c=\"blue\", marker=\"^\", label='plant b')\n",
    "\n",
    "    # add a legend to explain which points are which\n",
    "    \n",
    "    matplotlib.pyplot.show()"
   ]
  },
  {
   "cell_type": "code",
   "execution_count": 7,
   "metadata": {},
   "outputs": [],
   "source": [
    "def predict_prob(model,x1,x2):\n",
    "    #Predicts the probability for each point in given class, when given all the data for that class and the model\n",
    "    \n",
    "    return 1/(1+numpy.exp(-(x1*model.coef_[0][0]+ x2*model.coef_[0][1]+model.intercept_)))"
   ]
  },
  {
   "cell_type": "code",
   "execution_count": 8,
   "metadata": {},
   "outputs": [],
   "source": [
    "def values(model,x1,x2):\n",
    "        \n",
    "    return [i for i in range(len(x1))]"
   ]
  },
  {
   "cell_type": "code",
   "execution_count": 16,
   "metadata": {},
   "outputs": [],
   "source": [
    "def prediction_plot(model,class1_x1,class1_x2,class2_x1,class2_x2):\n",
    "    \n",
    "    # Represent the data in relation to the descision boundary\n",
    "    fig = matplotlib.pyplot.figure()\n",
    "    fig.suptitle('Regression Fit Visualization')\n",
    "    matplotlib.pyplot.xlabel('N/2')\n",
    "    matplotlib.pyplot.ylabel('Predicted Probability of Being Plant A')\n",
    "    \n",
    "    # put the generated points on the graph\n",
    "    a_scatter = matplotlib.pyplot.scatter(values(model,class1_x1,class1_x2),predict_prob(model,class1_x1,class1_x2), c=\"red\", marker=\"o\", label='plant a')\n",
    "    b_scatter = matplotlib.pyplot.scatter(values(model,class2_x1,class2_x2),predict_prob(model,class2_x1,class2_x2), c=\"blue\", marker=\"^\", label='plant b')\n",
    "\n",
    "    # add a legend to explain which points are which\n",
    "    matplotlib.pyplot.legend(handles=[a_scatter, b_scatter])\n",
    "    \n",
    "    # plot descision boundary\n",
    "    X = numpy.linspace(0, len(class1_x1))\n",
    "    Y = [.5 for i in list(zip(X))]\n",
    "    matplotlib.pyplot.plot(X, Y,c=\"black\")\n",
    "    \n",
    "    matplotlib.pyplot.show()\n"
   ]
  },
  {
   "cell_type": "code",
   "execution_count": 18,
   "metadata": {},
   "outputs": [
    {
     "data": {
      "image/png": "[encoded data removed]",
      "text/plain": [
       "<Figure size 432x288 with 1 Axes>"
      ]
     },
     "metadata": {
      "needs_background": "light"
     },
     "output_type": "display_data"
    }
   ],
   "source": [
    "prediction_plot(model,plant_a_heights, plant_a_widths,plant_b_heights, plant_b_widths)"
   ]
  },
  {
   "cell_type": "markdown",
   "metadata": {},
   "source": [
    "\n",
    "# Exercise Option (Advanced)\n",
    "\n",
    "If you have more than two classes, you can use multinomial logistic regression or the one vs. rest technique, where you use a binomial logistic regression for each class that you have and decide if it is or is not in that class. Try expanding the program with a third type and implementing your own one vs. rest models. To test if this is working, compare your output to running your expanded dataset through scikit-learn, which will automatically do one vs. rest if there are more than two classes.\n",
    "### Data Generation"
   ]
  },
  {
   "cell_type": "code",
   "execution_count": 11,
   "metadata": {},
   "outputs": [],
   "source": [
    "\n",
    "NUM_INPUTS = 50 # inputs per class\n",
    "PLANT_A_AVG_HEIGHT = 60.0\n",
    "PLANT_A_AVG_WIDTH = 8.0\n",
    "PLANT_B_AVG_HEIGHT = 58.0\n",
    "PLANT_B_AVG_WIDTH = 10.0\n",
    "PLANT_C_AVG_HEIGHT = 61.0\n",
    "PLANT_C_AVG_WIDTH = 9.0\n",
    "# Pick numbers randomly with a normal distribution centered around the averages\n",
    "\n",
    "plant_a_heights = numpy.random.normal(loc=PLANT_A_AVG_HEIGHT, size=NUM_INPUTS)\n",
    "plant_a_widths = numpy.random.normal(loc=PLANT_A_AVG_WIDTH, size=NUM_INPUTS)\n",
    "\n",
    "plant_b_heights = numpy.random.normal(loc=PLANT_B_AVG_HEIGHT, size=NUM_INPUTS)\n",
    "plant_b_widths = numpy.random.normal(loc=PLANT_B_AVG_WIDTH, size=NUM_INPUTS)\n",
    "\n",
    "plant_c_heights = numpy.random.normal(loc=PLANT_C_AVG_HEIGHT, size=NUM_INPUTS)\n",
    "plant_c_widths = numpy.random.normal(loc=PLANT_C_AVG_WIDTH, size=NUM_INPUTS)\n",
    "\n",
    "# this creates a 2-dimensional matrix, with heights in the first column and widths in the second\n",
    "# the first half of rows are all plants of type a and the second half are type b\n",
    "plant_inputs = list(zip(numpy.append(numpy.append(plant_a_heights, plant_b_heights),plant_c_heights),\n",
    "                        numpy.append(numpy.append(plant_a_widths, plant_b_widths),plant_c_widths)))\n",
    "\n",
    "# this is a list where the first half are 0s (representing plants of type a) and the second half are 1s (type b)\n",
    "classes = [0]*NUM_INPUTS + [1]*NUM_INPUTS + [2]*NUM_INPUTS\n",
    "class_num = len(classes)/NUM_INPUTS"
   ]
  },
  {
   "cell_type": "markdown",
   "metadata": {},
   "source": [
    "### Plotting"
   ]
  },
  {
   "cell_type": "code",
   "execution_count": 12,
   "metadata": {},
   "outputs": [
    {
     "data": {
      "image/png": "[encoded data removed]",
      "text/plain": [
       "<Figure size 432x288 with 1 Axes>"
      ]
     },
     "metadata": {
      "needs_background": "light"
     },
     "output_type": "display_data"
    }
   ],
   "source": [
    "# create a figure and label it\n",
    "fig = matplotlib.pyplot.figure()\n",
    "fig.suptitle('Plant Data Set')\n",
    "matplotlib.pyplot.xlabel('Height')\n",
    "matplotlib.pyplot.ylabel('Width')\n",
    "\n",
    "# put the generated points on the graph\n",
    "a_scatter = matplotlib.pyplot.scatter(plant_a_heights, plant_a_widths, c=\"red\", marker=\"o\", label='plant a')\n",
    "b_scatter = matplotlib.pyplot.scatter(plant_b_heights, plant_b_widths, c=\"blue\", marker=\"^\", label='plant b')\n",
    "c_scatter = matplotlib.pyplot.scatter(plant_c_heights, plant_c_widths, c=\"green\", marker=\"s\", label='plant c')\n",
    "\n",
    "# add a legend to explain which points are which\n",
    "matplotlib.pyplot.legend(handles=[a_scatter, b_scatter, c_scatter])\n",
    "matplotlib.pyplot.show()"
   ]
  },
  {
   "cell_type": "markdown",
   "metadata": {},
   "source": [
    "### Model Training"
   ]
  },
  {
   "cell_type": "code",
   "execution_count": 13,
   "metadata": {},
   "outputs": [
    {
     "name": "stdout",
     "output_type": "stream",
     "text": [
      "Intercept: [0.38419029]  Coefficients: [[-0.27442558  1.72844852]]\n",
      "Intercept: [0.38419029]  Coefficients: [[-0.27442558  1.72844852]]\n",
      "Intercept: [0.38419029]  Coefficients: [[-0.27442558  1.72844852]]\n"
     ]
    }
   ],
   "source": [
    "# We need to individually do a regression for each class\n",
    "models = []\n",
    "for class_ in range(int(class_num)):\n",
    "    \n",
    "    new_classes = []\n",
    "    \n",
    "    for i in classes:\n",
    "        \n",
    "        if i == class_:\n",
    "            new_classes.append(0)\n",
    "        else:\n",
    "            new_classes.append(1)\n",
    "    new_model = linear_model.LogisticRegression()\n",
    "    new_model.fit(plant_inputs, new_classes)\n",
    "\n",
    "    print('Intercept: {0}  Coefficients: {1}'.format(model.intercept_, model.coef_))\n",
    "    models.append(new_model)\n",
    "    "
   ]
  }
 ],
 "metadata": {
  "kernelspec": {
   "display_name": "Python 3",
   "language": "python",
   "name": "python3"
  },
  "language_info": {
   "codemirror_mode": {
    "name": "ipython",
    "version": 3
   },
   "file_extension": ".py",
   "mimetype": "text/x-python",
   "name": "python",
   "nbconvert_exporter": "python",
   "pygments_lexer": "ipython3",
   "version": "3.6.7"
  }
 },
 "nbformat": 4,
 "nbformat_minor": 2
}
