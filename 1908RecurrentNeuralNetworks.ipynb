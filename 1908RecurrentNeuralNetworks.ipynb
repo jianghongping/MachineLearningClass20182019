{
  "nbformat": 4,
  "nbformat_minor": 0,
  "metadata": {
    "colab": {
      "name": "Copy of RecurrentNeuralNetworks.ipynb",
      "version": "0.3.2",
      "provenance": [],
      "include_colab_link": true
    },
    "kernelspec": {
      "name": "python3",
      "display_name": "Python 3"
    },
    "accelerator": "GPU"
  },
  "cells": [
    {
      "cell_type": "markdown",
      "metadata": {
        "id": "view-in-github",
        "colab_type": "text"
      },
      "source": [
        "<a href=\"https://colab.research.google.com/github/nikp29/MachineLearningClass20182019/blob/master/1908RecurrentNeuralNetworks.ipynb\" target=\"_parent\"><img src=\"https://colab.research.google.com/assets/colab-badge.svg\" alt=\"Open In Colab\"/></a>"
      ]
    },
    {
      "metadata": {
        "id": "Mi11lZKxqGre",
        "colab_type": "text"
      },
      "cell_type": "markdown",
      "source": [
        "## Installation\n",
        "\n",
        "1. If you haven't already installed Python and Jupyter Notebook:   \n",
        "    1. Get Python3 from [Python.org](https://www.python.org/downloads/). **Tensorflow does not yet work with Python 3.7, so you _must_ get Python 3.6.** See https://github.com/tensorflow/tensorflow/issues/20517 for updates on 3.7 support.\n",
        "    1. In Terminal, run `python3 -m pip install jupyter`\n",
        "    1. In Terminal, cd to the folder in which you downloaded this file and run `jupyter notebook`. This should open up a page in your web browser that shows all of the files in the current directory, so that you can open this file. You will need to leave this Terminal window up and running and use a different one for the rest of the instructions.\n",
        "1. If you didn't install keras previously, install it now\n",
        "    1. Install the tensorflow machine learning library by typing the following into Terminal:\n",
        "    `pip3 install --upgrade tensorflow`\n",
        "    1. Install the keras machine learning library by typing the following into Terminal:\n",
        "    `pip3 install keras`\n"
      ]
    },
    {
      "metadata": {
        "id": "xPX9X59KqGrg",
        "colab_type": "text"
      },
      "cell_type": "markdown",
      "source": [
        "## Documentation/Sources\n",
        "* [Class Notes](https://jennselby.github.io/MachineLearningCourseNotes/#recurrent-neural-networks)\n",
        "* [https://machinelearningmastery.com/sequence-classification-lstm-recurrent-neural-networks-python-keras/](https://machinelearningmastery.com/sequence-classification-lstm-recurrent-neural-networks-python-keras/) for information on sequence classification with keras\n",
        "* [https://keras.io/](https://keras.io/) Keras API documentation\n",
        "* [Keras recurrent tutorial](https://github.com/Vict0rSch/deep_learning/tree/master/keras/recurrent)"
      ]
    },
    {
      "metadata": {
        "id": "sLNUrwGiqGrh",
        "colab_type": "text"
      },
      "cell_type": "markdown",
      "source": [
        "# Exercise Option 1: Tune an RNN on the IMDB classification problem\n",
        "\n",
        "## The IMDB Dataset\n",
        "The [IMDB dataset](https://keras.io/datasets/#imdb-movie-reviews-sentiment-classification) consists of movie reviews (x_train) that have been marked as positive or negative (y_train). See the [Word Vectors Tutorial](https://github.com/jennselby/MachineLearningTutorials/blob/master/WordVectors.ipynb) for more details on the IMDB dataset."
      ]
    },
    {
      "metadata": {
        "id": "Voir5plbqGri",
        "colab_type": "code",
        "colab": {}
      },
      "cell_type": "code",
      "source": [
        "from keras.datasets import imdb\n",
        "from keras.preprocessing import sequence"
      ],
      "execution_count": 0,
      "outputs": []
    },
    {
      "metadata": {
        "id": "d8iTJedrqGrl",
        "colab_type": "code",
        "colab": {}
      },
      "cell_type": "code",
      "source": [
        "(imdb_x_train, imdb_y_train), (imdb_x_test, imdb_y_test) = imdb.load_data()"
      ],
      "execution_count": 0,
      "outputs": []
    },
    {
      "metadata": {
        "id": "QT7gL_7bqGro",
        "colab_type": "text"
      },
      "cell_type": "markdown",
      "source": [
        "For a standard keras model, every input has to be the same length, so we need to set some length after which we will cutoff the rest of the review. (We will also need to pad the shorter reviews with zeros to make them the same length)."
      ]
    },
    {
      "metadata": {
        "id": "2cVzvFZ1qGro",
        "colab_type": "code",
        "colab": {}
      },
      "cell_type": "code",
      "source": [
        "cutoff = 500"
      ],
      "execution_count": 0,
      "outputs": []
    },
    {
      "metadata": {
        "id": "I_ogsfATqGrr",
        "colab_type": "code",
        "colab": {}
      },
      "cell_type": "code",
      "source": [
        "imdb_x_train_padded = sequence.pad_sequences(imdb_x_train, maxlen=cutoff)\n",
        "imdb_x_test_padded = sequence.pad_sequences(imdb_x_test, maxlen=cutoff)"
      ],
      "execution_count": 0,
      "outputs": []
    },
    {
      "metadata": {
        "id": "vcDrt4M6qGrw",
        "colab_type": "code",
        "colab": {}
      },
      "cell_type": "code",
      "source": [
        "imdb_index_offset = 3 # see https://stackoverflow.com/questions/42821330/restore-original-text-from-keras-s-imdb-dataset"
      ],
      "execution_count": 0,
      "outputs": []
    },
    {
      "metadata": {
        "id": "PnqW5VQBqGr1",
        "colab_type": "text"
      },
      "cell_type": "markdown",
      "source": [
        "## Classification"
      ]
    },
    {
      "metadata": {
        "id": "dQZq87I3qGr3",
        "colab_type": "code",
        "colab": {}
      },
      "cell_type": "code",
      "source": [
        "from keras.models import Sequential\n",
        "from keras.layers import Embedding, LSTM, Dense"
      ],
      "execution_count": 0,
      "outputs": []
    },
    {
      "metadata": {
        "id": "qNP--w8JqGr8",
        "colab_type": "text"
      },
      "cell_type": "markdown",
      "source": [
        "Define our model.\n",
        "\n",
        "Unlike last time, when we used convolutional layers, we're going to use an LSTM, a special type of recurrent network.\n",
        "\n",
        "Using recurrent networks means that rather than seeing these reviews as one input happening all at one, with the convolutional layers taking into account which words are next to each other, we are going to see them as a sequence of inputs, with one word occurring at each timestep."
      ]
    },
    {
      "metadata": {
        "id": "DCas0RdDqGr-",
        "colab_type": "code",
        "colab": {}
      },
      "cell_type": "code",
      "source": [
        "imdb_lstm_model = Sequential()\n",
        "imdb_lstm_model.add(Embedding(input_dim=len(imdb.get_word_index()) + imdb_index_offset,\n",
        "                              output_dim=100,\n",
        "                              input_length=cutoff))\n",
        "# return_sequences tells the LSTM to output the full sequence, for use by the next LSTM layer. The final\n",
        "# LSTM layer should return only the output sequence, for use in the Dense output layer\n",
        "imdb_lstm_model.add(LSTM(units=32, return_sequences=True))\n",
        "imdb_lstm_model.add(LSTM(units=32))\n",
        "imdb_lstm_model.add(Dense(units=1, activation='sigmoid')) # because at the end, we want one yes/no answer\n",
        "imdb_lstm_model.compile(loss='binary_crossentropy', optimizer='adam', metrics=['binary_accuracy'])"
      ],
      "execution_count": 0,
      "outputs": []
    },
    {
      "metadata": {
        "id": "A27WjGPcqGsF",
        "colab_type": "text"
      },
      "cell_type": "markdown",
      "source": [
        "Train the model. __This takes 5-15 minutes. You might not want to re-run it unless you are testing out your own changes.__"
      ]
    },
    {
      "metadata": {
        "id": "kyPXDuBGqGsG",
        "colab_type": "code",
        "outputId": "066cf202-3df1-4cb2-d7e0-70f5efe38f49",
        "colab": {}
      },
      "cell_type": "code",
      "source": [
        "imdb_lstm_model.fit(imdb_x_train_padded, imdb_y_train, epochs=1, batch_size=64)"
      ],
      "execution_count": 0,
      "outputs": [
        {
          "output_type": "stream",
          "text": [
            "Epoch 1/1\n",
            "25000/25000 [==============================] - 501s 20ms/step - loss: 0.3990 - binary_accuracy: 0.8142\n"
          ],
          "name": "stdout"
        },
        {
          "output_type": "execute_result",
          "data": {
            "text/plain": [
              "<keras.callbacks.History at 0x110387d30>"
            ]
          },
          "metadata": {
            "tags": []
          },
          "execution_count": 9
        }
      ]
    },
    {
      "metadata": {
        "id": "Gv7OPuHLqGsL",
        "colab_type": "text"
      },
      "cell_type": "markdown",
      "source": [
        "Assess the model. __This takes 2-10 minutes. You might not want to re-run it unless you are testing out your own changes.__"
      ]
    },
    {
      "metadata": {
        "id": "rvD2zp7RqGsM",
        "colab_type": "code",
        "outputId": "5174e0e3-b3a2-4b27-ba7c-883342cbc003",
        "colab": {}
      },
      "cell_type": "code",
      "source": [
        "imdb_lstm_scores = imdb_lstm_model.evaluate(imdb_x_test_padded, imdb_y_test)\n",
        "print('loss: {} accuracy: {}'.format(*imdb_lstm_scores))"
      ],
      "execution_count": 0,
      "outputs": [
        {
          "output_type": "stream",
          "text": [
            "25000/25000 [==============================] - 190s 8ms/step\n",
            "loss: 0.3043981187725067 accuracy: 0.87712\n"
          ],
          "name": "stdout"
        }
      ]
    },
    {
      "metadata": {
        "id": "sOATalhzqGsP",
        "colab_type": "text"
      },
      "cell_type": "markdown",
      "source": [
        "# Exercise Option 1\n",
        "\n",
        "Experiment with different model configurations from the one above. Try other recurrent layers, different numbers of layers, change some of the defaults. See [Keras Recurrent Layers](https://keras.io/layers/recurrent/)"
      ]
    },
    {
      "metadata": {
        "id": "JRWmay4RqGsQ",
        "colab_type": "code",
        "colab": {}
      },
      "cell_type": "code",
      "source": [
        ""
      ],
      "execution_count": 0,
      "outputs": []
    },
    {
      "metadata": {
        "id": "XfPn1eppqGsT",
        "colab_type": "code",
        "colab": {}
      },
      "cell_type": "code",
      "source": [
        ""
      ],
      "execution_count": 0,
      "outputs": []
    },
    {
      "metadata": {
        "id": "UFEZSn7LqGsV",
        "colab_type": "code",
        "colab": {}
      },
      "cell_type": "code",
      "source": [
        ""
      ],
      "execution_count": 0,
      "outputs": []
    },
    {
      "metadata": {
        "id": "lfJCF-jrqGsX",
        "colab_type": "code",
        "colab": {}
      },
      "cell_type": "code",
      "source": [
        ""
      ],
      "execution_count": 0,
      "outputs": []
    },
    {
      "metadata": {
        "id": "Xy9LJW8yqGsZ",
        "colab_type": "text"
      },
      "cell_type": "markdown",
      "source": [
        "# Exercise Option 2: Understand the Weight in RNNs\n",
        "\n",
        "## Exploring Simple Recurrent Layers\n",
        "\n",
        "Before we dive into something as complicated as LSTMs, Let's take a deeper look at simple recurrent layer weights."
      ]
    },
    {
      "metadata": {
        "id": "K_mheV2JqGsa",
        "colab_type": "code",
        "colab": {}
      },
      "cell_type": "code",
      "source": [
        "import numpy\n",
        "from keras.layers import SimpleRNN\n",
        "from keras.models import Sequential\n",
        "from keras.layers import LSTM"
      ],
      "execution_count": 0,
      "outputs": []
    },
    {
      "metadata": {
        "id": "qwiD3sWUqGse",
        "colab_type": "text"
      },
      "cell_type": "markdown",
      "source": [
        "The neurons in the recurrent layer pass their output to the next layer, but also back to themselves. The input shape says that we'll be passing in one-dimensional inputs of unspecified length (the None is what makes it unspecified)."
      ]
    },
    {
      "metadata": {
        "id": "TXRdmFAEqGsf",
        "colab_type": "code",
        "colab": {}
      },
      "cell_type": "code",
      "source": [
        "one_unit_SRNN = Sequential()\n",
        "one_unit_SRNN.add(SimpleRNN(units=1, input_shape=(None, 1), activation='linear', use_bias=False))"
      ],
      "execution_count": 0,
      "outputs": []
    },
    {
      "metadata": {
        "id": "ErITqTQqqGsm",
        "colab_type": "code",
        "outputId": "9d3029b8-7f29-4e7e-f286-2d352d54a407",
        "colab": {}
      },
      "cell_type": "code",
      "source": [
        "one_unit_SRNN_weights = one_unit_SRNN.get_weights()\n",
        "one_unit_SRNN_weights"
      ],
      "execution_count": 0,
      "outputs": [
        {
          "output_type": "execute_result",
          "data": {
            "text/plain": [
              "[array([[-1.7195231]], dtype=float32), array([[-1.]], dtype=float32)]"
            ]
          },
          "metadata": {
            "tags": []
          },
          "execution_count": 13
        }
      ]
    },
    {
      "metadata": {
        "id": "fywRiENWqGsq",
        "colab_type": "text"
      },
      "cell_type": "markdown",
      "source": [
        "We can set the weights to whatever we want, to test out what happens with different weight values."
      ]
    },
    {
      "metadata": {
        "id": "lqJNqyqaqGsr",
        "colab_type": "code",
        "outputId": "c8e98aa7-cf3b-4ec1-d98f-440f8c25e59e",
        "colab": {}
      },
      "cell_type": "code",
      "source": [
        "one_unit_SRNN_weights[0][0][0] = 1\n",
        "one_unit_SRNN_weights[1][0][0] = 1\n",
        "one_unit_SRNN.set_weights(one_unit_SRNN_weights)\n",
        "one_unit_SRNN.get_weights()"
      ],
      "execution_count": 0,
      "outputs": [
        {
          "output_type": "execute_result",
          "data": {
            "text/plain": [
              "[array([[1.]], dtype=float32), array([[1.]], dtype=float32)]"
            ]
          },
          "metadata": {
            "tags": []
          },
          "execution_count": 14
        }
      ]
    },
    {
      "metadata": {
        "id": "LHpq-v0pqGst",
        "colab_type": "text"
      },
      "cell_type": "markdown",
      "source": [
        "We can then pass in different input values, to see what the model outputs.\n",
        "\n",
        "The code below passes in a single sample that has three time steps."
      ]
    },
    {
      "metadata": {
        "id": "8akwTE9fqGsu",
        "colab_type": "code",
        "outputId": "90fe04bf-74fe-4457-a43e-ba34231f9b49",
        "colab": {}
      },
      "cell_type": "code",
      "source": [
        "one_unit_SRNN.predict(numpy.array([ [[3], [3], [7]] ]))"
      ],
      "execution_count": 0,
      "outputs": [
        {
          "output_type": "execute_result",
          "data": {
            "text/plain": [
              "array([[13.]], dtype=float32)"
            ]
          },
          "metadata": {
            "tags": []
          },
          "execution_count": 15
        }
      ]
    },
    {
      "metadata": {
        "id": "2amOGQN-qGsz",
        "colab_type": "text"
      },
      "cell_type": "markdown",
      "source": [
        "# Exercise 2a\n",
        "Figure out what the two weights in the one_unit_SRNN model control. Be sure to test your hypothesis thoroughly. Use different weights and different inputs."
      ]
    },
    {
      "metadata": {
        "id": "Ka5nGdxRqGs1",
        "colab_type": "code",
        "colab": {}
      },
      "cell_type": "code",
      "source": [
        ""
      ],
      "execution_count": 0,
      "outputs": []
    },
    {
      "metadata": {
        "id": "z7WxPmzTqGs3",
        "colab_type": "code",
        "colab": {}
      },
      "cell_type": "code",
      "source": [
        ""
      ],
      "execution_count": 0,
      "outputs": []
    },
    {
      "metadata": {
        "id": "sVGTj2bTqGs6",
        "colab_type": "text"
      },
      "cell_type": "markdown",
      "source": [
        "## Slightly larger simple recurrent model"
      ]
    },
    {
      "metadata": {
        "id": "RELGkfX5qGs6",
        "colab_type": "code",
        "colab": {}
      },
      "cell_type": "code",
      "source": [
        "two_unit_SRNN = Sequential()\n",
        "two_unit_SRNN.add(SimpleRNN(units=2, input_shape=(None, 1), activation='linear', use_bias=False))"
      ],
      "execution_count": 0,
      "outputs": []
    },
    {
      "metadata": {
        "id": "SQUCRQ_gqGs8",
        "colab_type": "code",
        "outputId": "218492a8-eb15-418d-e645-89546e9118c3",
        "colab": {}
      },
      "cell_type": "code",
      "source": [
        "two_unit_SRNN_weights = two_unit_SRNN.get_weights()\n",
        "two_unit_SRNN_weights"
      ],
      "execution_count": 0,
      "outputs": [
        {
          "output_type": "execute_result",
          "data": {
            "text/plain": [
              "[array([[0.5136689, 0.7333714]], dtype=float32),\n",
              " array([[-0.05177475,  0.9986588 ],\n",
              "        [ 0.9986588 ,  0.05177475]], dtype=float32)]"
            ]
          },
          "metadata": {
            "tags": []
          },
          "execution_count": 17
        }
      ]
    },
    {
      "metadata": {
        "id": "wJYLTAJlqGs-",
        "colab_type": "code",
        "outputId": "13b7aa4a-95ba-4bfb-eb67-ec3e3d93f6fb",
        "colab": {}
      },
      "cell_type": "code",
      "source": [
        "two_unit_SRNN_weights[0][0][0] = 1\n",
        "two_unit_SRNN_weights[0][0][1] = 1\n",
        "two_unit_SRNN_weights[1][0][0] = 0\n",
        "two_unit_SRNN_weights[1][0][1] = 1\n",
        "two_unit_SRNN_weights[1][1][0] = 0\n",
        "two_unit_SRNN_weights[1][1][1] = 1\n",
        "two_unit_SRNN.set_weights(two_unit_SRNN_weights)\n",
        "two_unit_SRNN.get_weights()"
      ],
      "execution_count": 0,
      "outputs": [
        {
          "output_type": "execute_result",
          "data": {
            "text/plain": [
              "[array([[1., 1.]], dtype=float32), array([[0., 1.],\n",
              "        [0., 1.]], dtype=float32)]"
            ]
          },
          "metadata": {
            "tags": []
          },
          "execution_count": 18
        }
      ]
    },
    {
      "metadata": {
        "id": "pVHLeTVgqGtC",
        "colab_type": "text"
      },
      "cell_type": "markdown",
      "source": [
        "This passes in a single sample with four time steps."
      ]
    },
    {
      "metadata": {
        "id": "aOc-7671qGtE",
        "colab_type": "code",
        "outputId": "15e6b318-6a26-477a-a430-d53f9b505b93",
        "colab": {}
      },
      "cell_type": "code",
      "source": [
        "two_unit_SRNN.predict(numpy.array([ [[3], [3], [7], [5]] ]))"
      ],
      "execution_count": 0,
      "outputs": [
        {
          "output_type": "execute_result",
          "data": {
            "text/plain": [
              "array([[ 5., 31.]], dtype=float32)"
            ]
          },
          "metadata": {
            "tags": []
          },
          "execution_count": 19
        }
      ]
    },
    {
      "metadata": {
        "id": "LWUnXMwtqGtH",
        "colab_type": "text"
      },
      "cell_type": "markdown",
      "source": [
        "# Exercise 2b\n",
        "What do each of the six weights of the two_unit_SRNN control? Again, test out your hypotheses carefully."
      ]
    },
    {
      "metadata": {
        "id": "8g6nI9UkqGtK",
        "colab_type": "code",
        "colab": {}
      },
      "cell_type": "code",
      "source": [
        ""
      ],
      "execution_count": 0,
      "outputs": []
    },
    {
      "metadata": {
        "id": "q09KJba_qGtM",
        "colab_type": "code",
        "colab": {}
      },
      "cell_type": "code",
      "source": [
        ""
      ],
      "execution_count": 0,
      "outputs": []
    },
    {
      "metadata": {
        "id": "VpDdLhWEqGtO",
        "colab_type": "text"
      },
      "cell_type": "markdown",
      "source": [
        "## Exploring LSTMs (Optional Extension to Exercise 2)\n"
      ]
    },
    {
      "metadata": {
        "id": "isIVZrmkqGtP",
        "colab_type": "code",
        "colab": {}
      },
      "cell_type": "code",
      "source": [
        "one_unit_LSTM = Sequential()\n",
        "one_unit_LSTM.add(LSTM(units=1, input_shape=(None, 1),\n",
        "                       activation='linear', recurrent_activation='linear',\n",
        "                       use_bias=False, unit_forget_bias=False,\n",
        "                       kernel_initializer='zeros',\n",
        "                       recurrent_initializer='zeros',\n",
        "                       return_sequences=True))"
      ],
      "execution_count": 0,
      "outputs": []
    },
    {
      "metadata": {
        "id": "tGPSp1_DqGtQ",
        "colab_type": "code",
        "outputId": "ac6a12e0-33b2-471d-d663-aaa847ea958f",
        "colab": {}
      },
      "cell_type": "code",
      "source": [
        "one_unit_LSTM_weights = one_unit_LSTM.get_weights()\n",
        "one_unit_LSTM_weights"
      ],
      "execution_count": 0,
      "outputs": [
        {
          "output_type": "execute_result",
          "data": {
            "text/plain": [
              "[array([[0., 0., 0., 0.]], dtype=float32),\n",
              " array([[0., 0., 0., 0.]], dtype=float32)]"
            ]
          },
          "metadata": {
            "tags": []
          },
          "execution_count": 21
        }
      ]
    },
    {
      "metadata": {
        "id": "tHLQ7E_8qGtT",
        "colab_type": "code",
        "outputId": "4d6e4463-6bd7-44db-be28-80e0c971bb07",
        "colab": {}
      },
      "cell_type": "code",
      "source": [
        "one_unit_LSTM_weights[0][0][0] = 1\n",
        "one_unit_LSTM_weights[0][0][1] = 0\n",
        "one_unit_LSTM_weights[0][0][2] = 1\n",
        "one_unit_LSTM_weights[0][0][3] = 1\n",
        "one_unit_LSTM_weights[1][0][0] = 0\n",
        "one_unit_LSTM_weights[1][0][1] = 0\n",
        "one_unit_LSTM_weights[1][0][2] = 0\n",
        "one_unit_LSTM_weights[1][0][3] = 0\n",
        "one_unit_LSTM.set_weights(one_unit_LSTM_weights)\n",
        "one_unit_LSTM.get_weights()"
      ],
      "execution_count": 0,
      "outputs": [
        {
          "output_type": "execute_result",
          "data": {
            "text/plain": [
              "[array([[1., 0., 1., 1.]], dtype=float32),\n",
              " array([[0., 0., 0., 0.]], dtype=float32)]"
            ]
          },
          "metadata": {
            "tags": []
          },
          "execution_count": 22
        }
      ]
    },
    {
      "metadata": {
        "id": "b3TTKM5IqGtY",
        "colab_type": "code",
        "outputId": "1a8f5ecd-910e-4487-a3df-63d9937da173",
        "colab": {}
      },
      "cell_type": "code",
      "source": [
        "one_unit_LSTM.predict(numpy.array([ [[0], [1], [2], [4]] ]))"
      ],
      "execution_count": 0,
      "outputs": [
        {
          "output_type": "execute_result",
          "data": {
            "text/plain": [
              "array([[[ 0.],\n",
              "        [ 1.],\n",
              "        [ 8.],\n",
              "        [64.]]], dtype=float32)"
            ]
          },
          "metadata": {
            "tags": []
          },
          "execution_count": 23
        }
      ]
    },
    {
      "metadata": {
        "id": "Q2ntDDygqGtc",
        "colab_type": "text"
      },
      "cell_type": "markdown",
      "source": [
        "# Exercise 2c\n",
        "Conceptually, the [LSTM](http://colah.github.io/posts/2015-08-Understanding-LSTMs/) has several _gates_:\n",
        "\n",
        "* __Forget gate__: these weights allow some long-term memories to be forgotten.\n",
        "* __Input gate__: these weights decide what new information will be added to the context cell.\n",
        "* __Output gate__: these weights decide what pieces of the new information and updated context will be passed on to the output.\n",
        "\n",
        "It also has a __cell__ that can hold onto information from the current input (as well as things it has remembered from previous inputs), so that it can be used in later outputs.\n",
        "\n",
        "Identify which weights in the one_unit_LSTM model are connected with the context and which are associated with the three gates. This is considerably more difficult to do by looking at the inputs and outputs, so you could also treat this as a code reading exercise and look through the keras code to find the answer.\n",
        "\n",
        "_Note_: The output from the predict call is what the linked explanation calls $h_{t}$."
      ]
    },
    {
      "metadata": {
        "id": "I1C7LrweqGtd",
        "colab_type": "code",
        "colab": {}
      },
      "cell_type": "code",
      "source": [
        ""
      ],
      "execution_count": 0,
      "outputs": []
    },
    {
      "metadata": {
        "id": "io71KfrrqGtf",
        "colab_type": "code",
        "colab": {}
      },
      "cell_type": "code",
      "source": [
        ""
      ],
      "execution_count": 0,
      "outputs": []
    },
    {
      "metadata": {
        "id": "FaXBbGm5qGth",
        "colab_type": "text"
      },
      "cell_type": "markdown",
      "source": [
        "# Exercise Option 3: Set up your own RNN model for the Reuters Classification Problem\n",
        "\n",
        "Take the model from exercise 1 (imdb_lstm_model) and modify it to classify the [Reuters data](https://keras.io/datasets/#reuters-newswire-topics-classification).\n",
        "\n",
        "Think about what you are trying to predict in this case, and how you will have to change your model to deal with this."
      ]
    },
    {
      "metadata": {
        "id": "tBOh_dIoqGto",
        "colab_type": "code",
        "colab": {}
      },
      "cell_type": "code",
      "source": [
        "from keras.datasets import reuters\n",
        "from keras.preprocessing import sequence\n",
        "from keras.models import Sequential\n",
        "from keras.layers import Embedding, LSTM, Dense"
      ],
      "execution_count": 0,
      "outputs": []
    },
    {
      "metadata": {
        "id": "PyYxeHEFqGts",
        "colab_type": "code",
        "colab": {}
      },
      "cell_type": "code",
      "source": [
        "(reuters_x_train, reuters_y_train), (reuters_x_test, reuters_y_test) = reuters.load_data()"
      ],
      "execution_count": 0,
      "outputs": []
    },
    {
      "metadata": {
        "id": "0HF-VFKXqGtw",
        "colab_type": "code",
        "colab": {}
      },
      "cell_type": "code",
      "source": [
        ""
      ],
      "execution_count": 0,
      "outputs": []
    },
    {
      "metadata": {
        "id": "lN8bJCs2qGtx",
        "colab_type": "code",
        "colab": {}
      },
      "cell_type": "code",
      "source": [
        ""
      ],
      "execution_count": 0,
      "outputs": []
    }
  ]
}